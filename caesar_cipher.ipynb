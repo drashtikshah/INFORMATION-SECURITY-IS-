def encrypt(text,s):
	result = ""

	for i in range(len(text)):
		char = text[i]

		if (char.isupper()):
			result += chr((ord(char) + s-65) % 26 + 65)

		else:
			result += chr((ord(char) + s - 97) % 26 + 97)

	return result

text = "Drashti"
s = 4
t = -4
print ("Text : " + text)
print ("Shift : " + str(s))
encrypted_text = encrypt(text, s)
decrypted_text = encrypt(encrypted_text, t)
print ("Cipher: " + encrypted_text)
print("Decrypted Cipher: " + decrypted_text)
