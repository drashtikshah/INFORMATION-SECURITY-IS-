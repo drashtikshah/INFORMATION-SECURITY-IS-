def caesar_decrypt_bruteforce(ciphertext):
    for shift in range(26):
        decrypted_text = ""
        for char in ciphertext:
            if char.islower():
                decrypted_char = chr(((ord(char) - ord('a') - shift) % 26) + ord('a'))
                decrypted_text += decrypted_char
            else:
                decrypted_text += char
        print(f"Shift {shift}: {decrypted_text}")
 
# Example usage
encrypted_text = "Jgnnq Yqtnf"
print("Encrypted text:", encrypted_text)
 
print("\nBrute-force decryption:")
caesar_decrypt_bruteforce(encrypted_text)
