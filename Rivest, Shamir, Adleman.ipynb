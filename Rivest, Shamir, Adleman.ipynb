import math

def gcd(a, h):
    temp = 0
    while(1):
        temp = a % h
        if temp == 0:
            return h
        a = h
        h = temp

p = int(input("Enter a prime number (p): "))
q = int(input("Enter another prime number (q): "))
msg = float(input("Enter the message to be encrypted (a decimal number): "))

n = p * q
e = 2
phi = (p - 1) * (q - 1)

while e < phi:
    if gcd(e, phi) == 1:
        break
    else:
        e += 1

d = pow(e, -1, phi)

c = pow(int(msg), e, n)
print("Encrypted data =", c)

m = pow(c, d, n)
print("Original Message Sent =", m)
