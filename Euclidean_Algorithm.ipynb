def gcd(a, b):
    if a == 0:
        return b

    return gcd(b % a, a)

print("Enter any two integers such that a>=b: ")
a = int(input("Enter first integer: "))
b = int(input("Enter second integer: "))
print("gcd(", a, ",", b, ") = ", gcd(a, b))
